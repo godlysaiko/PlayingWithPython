{
 "cells": [
  {
   "cell_type": "code",
   "execution_count": 47,
   "metadata": {},
   "outputs": [],
   "source": [
    "sudoku=[\n",
    "    [5,3,0,0,7,0,0,0,0],\n",
    "    [6,0,0,1,9,5,0,0,0],\n",
    "    [0,9,8,0,0,0,0,6,0],\n",
    "    [8,0,0,0,6,0,0,0,3],\n",
    "    [4,0,0,8,0,3,0,0,1],\n",
    "    [7,0,0,0,2,0,0,0,6],\n",
    "    [0,6,0,0,0,0,2,8,0],\n",
    "    [0,0,0,4,1,9,0,0,5],\n",
    "    [0,0,0,0,8,0,0,7,9]\n",
    "]"
   ]
  },
  {
   "cell_type": "code",
   "execution_count": 48,
   "metadata": {},
   "outputs": [],
   "source": [
    "def showBoard(b):\n",
    "    for i in range(9):\n",
    "        if i%3==0 and i!=0:\n",
    "            print(\"---------------------\")\n",
    "        for j in range(9):\n",
    "            if j%3==0:\n",
    "                print(\"|\",end='')\n",
    "            if j==8:\n",
    "                print(b[i][j])\n",
    "            else:\n",
    "                print(b[i][j],end=' ')"
   ]
  },
  {
   "cell_type": "code",
   "execution_count": 49,
   "metadata": {},
   "outputs": [
    {
     "name": "stdout",
     "output_type": "stream",
     "text": [
      "|5 3 4 |6 7 8 |9 1 2\n",
      "|6 7 2 |1 9 5 |3 4 8\n",
      "|1 9 8 |3 4 2 |5 6 7\n",
      "---------------------\n",
      "|8 5 9 |7 6 1 |4 2 3\n",
      "|4 2 6 |8 5 3 |7 9 1\n",
      "|7 1 3 |9 2 4 |8 5 6\n",
      "---------------------\n",
      "|9 6 1 |5 3 7 |2 8 4\n",
      "|2 8 7 |4 1 9 |6 3 5\n",
      "|3 4 5 |2 8 6 |1 7 9\n"
     ]
    }
   ],
   "source": [
    "showBoard(board)"
   ]
  },
  {
   "cell_type": "code",
   "execution_count": 50,
   "metadata": {},
   "outputs": [],
   "source": [
    "def isEmpty(bo):\n",
    "    for i in range(9):\n",
    "        for j in range(9):\n",
    "            if bo[i][j]==0:\n",
    "                return (i,j)\n",
    "    return None"
   ]
  },
  {
   "cell_type": "code",
   "execution_count": 51,
   "metadata": {},
   "outputs": [],
   "source": [
    "def isFit(bo, num, pos):\n",
    "    # row Checker :\n",
    "    for j in range(9):\n",
    "        if bo[pos[0]][j] == num and pos[1] != j:\n",
    "            return False\n",
    "\n",
    "    # column checker :\n",
    "\n",
    "    for i in range(9):\n",
    "        if bo[i][pos[1]] == num and pos[0] != i:\n",
    "            return False\n",
    "\n",
    "    # Square Checker\n",
    "    sq = (pos[1] // 3, pos[0] // 3)\n",
    "\n",
    "    for i in range(sq[1]*3, sq[1]*3 + 3):\n",
    "        for j in range(sq[0] * 3, sq[0]*3 + 3):\n",
    "            if bo[i][j] == num and (i,j) != pos:\n",
    "                return False\n",
    "\n",
    "    return True\n"
   ]
  },
  {
   "cell_type": "code",
   "execution_count": 55,
   "metadata": {},
   "outputs": [],
   "source": [
    "def solver(b):\n",
    "    cell = isEmpty(b)\n",
    "    if not cell:\n",
    "        return True\n",
    "    else:\n",
    "        r, c = cell\n",
    "\n",
    "    for i in range(1,10):\n",
    "        if isFit(b, i, cell):\n",
    "            b[r][c] = i\n",
    "\n",
    "            if solver(b):\n",
    "                return True\n",
    "\n",
    "            b[r][c] = 0\n",
    "\n",
    "    return False\n",
    "\n"
   ]
  },
  {
   "cell_type": "code",
   "execution_count": 56,
   "metadata": {},
   "outputs": [
    {
     "name": "stdout",
     "output_type": "stream",
     "text": [
      "|5 3 0 |0 7 0 |0 0 0\n",
      "|6 0 0 |1 9 5 |0 0 0\n",
      "|0 9 8 |0 0 0 |0 6 0\n",
      "---------------------\n",
      "|8 0 0 |0 6 0 |0 0 3\n",
      "|4 0 0 |8 0 3 |0 0 1\n",
      "|7 0 0 |0 2 0 |0 0 6\n",
      "---------------------\n",
      "|0 6 0 |0 0 0 |2 8 0\n",
      "|0 0 0 |4 1 9 |0 0 5\n",
      "|0 0 0 |0 8 0 |0 7 9\n"
     ]
    },
    {
     "data": {
      "text/plain": [
       "True"
      ]
     },
     "execution_count": 56,
     "metadata": {},
     "output_type": "execute_result"
    }
   ],
   "source": [
    "showBoard(sudoku)\n",
    "solver(sudoku)"
   ]
  },
  {
   "cell_type": "code",
   "execution_count": 57,
   "metadata": {},
   "outputs": [
    {
     "name": "stdout",
     "output_type": "stream",
     "text": [
      "|5 3 4 |6 7 8 |9 1 2\n",
      "|6 7 2 |1 9 5 |3 4 8\n",
      "|1 9 8 |3 4 2 |5 6 7\n",
      "---------------------\n",
      "|8 5 9 |7 6 1 |4 2 3\n",
      "|4 2 6 |8 5 3 |7 9 1\n",
      "|7 1 3 |9 2 4 |8 5 6\n",
      "---------------------\n",
      "|9 6 1 |5 3 7 |2 8 4\n",
      "|2 8 7 |4 1 9 |6 3 5\n",
      "|3 4 5 |2 8 6 |1 7 9\n"
     ]
    }
   ],
   "source": [
    "showBoard(sudoku)"
   ]
  }
 ],
 "metadata": {
  "kernelspec": {
   "display_name": "Python 3",
   "language": "python",
   "name": "python3"
  },
  "language_info": {
   "codemirror_mode": {
    "name": "ipython",
    "version": 3
   },
   "file_extension": ".py",
   "mimetype": "text/x-python",
   "name": "python",
   "nbconvert_exporter": "python",
   "pygments_lexer": "ipython3",
   "version": "3.7.5"
  }
 },
 "nbformat": 4,
 "nbformat_minor": 2
}
